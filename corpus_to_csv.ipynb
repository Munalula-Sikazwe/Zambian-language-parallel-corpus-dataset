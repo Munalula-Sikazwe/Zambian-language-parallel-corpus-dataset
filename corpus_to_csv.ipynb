{
 "cells": [
  {
   "cell_type": "markdown",
   "id": "c2443554",
   "metadata": {},
   "source": [
    "# This notebook is used to preprocess the text files and align them into parallel corpora.\n"
   ]
  },
  {
   "cell_type": "markdown",
   "id": "80a530b2",
   "metadata": {},
   "source": [
    "### importing required files "
   ]
  },
  {
   "cell_type": "code",
   "execution_count": 1,
   "id": "fd403fe8",
   "metadata": {},
   "outputs": [],
   "source": [
    "from collections import defaultdict\n",
    "from bible_books import bible_books\n",
    "import pandas as pd"
   ]
  },
  {
   "cell_type": "markdown",
   "id": "b871bea2",
   "metadata": {},
   "source": [
    "### creating a function to read a file in the bible folder . \n"
   ]
  },
  {
   "cell_type": "code",
   "execution_count": 2,
   "id": "9e1b745f",
   "metadata": {},
   "outputs": [],
   "source": [
    "def read_file(language,book):\n",
    "    with open(f\"bible/{book.get('name')}/{book.get('name')}_{language}.txt\",encoding=\"utf-8\") as text:\n",
    "        return text.read().split('\\n')"
   ]
  },
  {
   "cell_type": "markdown",
   "id": "67499f92",
   "metadata": {},
   "source": [
    "### Initializializing  constants "
   ]
  },
  {
   "cell_type": "code",
   "execution_count": 3,
   "id": "b308f9ca",
   "metadata": {},
   "outputs": [],
   "source": [
    "LANGUAGES =  ['ENGLISH', 'BEMBA','LOZI', 'CHICHEWA', 'TONGA', 'MAMBWE','LUVALE','LENJE']\n",
    "parallel_corpus = defaultdict(list)"
   ]
  },
  {
   "cell_type": "markdown",
   "id": "6a4b35a4",
   "metadata": {},
   "source": [
    "### creating function to iterate between language files"
   ]
  },
  {
   "cell_type": "code",
   "execution_count": 4,
   "id": "34d8bf9e",
   "metadata": {},
   "outputs": [],
   "source": [
    "def align_corpus(languages,bible_books):\n",
    "    for language in languages:\n",
    "        for book in bible_books:\n",
    "            text = read_file(language,book)\n",
    "            parallel_corpus[language] += text\n",
    "       \n",
    "       "
   ]
  },
  {
   "cell_type": "markdown",
   "id": "863f2237",
   "metadata": {},
   "source": [
    "### Aligning the dataframes and creating a csv"
   ]
  },
  {
   "cell_type": "code",
   "execution_count": 5,
   "id": "fbc1b719",
   "metadata": {},
   "outputs": [
    {
     "name": "stdout",
     "output_type": "stream",
     "text": [
      "<class 'pandas.core.frame.DataFrame'>\n",
      "RangeIndex: 30923 entries, 0 to 30922\n",
      "Data columns (total 8 columns):\n",
      " #   Column    Non-Null Count  Dtype \n",
      "---  ------    --------------  ----- \n",
      " 0   ENGLISH   30923 non-null  object\n",
      " 1   BEMBA     30923 non-null  object\n",
      " 2   LOZI      30923 non-null  object\n",
      " 3   CHICHEWA  30923 non-null  object\n",
      " 4   TONGA     30923 non-null  object\n",
      " 5   MAMBWE    30923 non-null  object\n",
      " 6   LUVALE    30923 non-null  object\n",
      " 7   LENJE     30923 non-null  object\n",
      "dtypes: object(8)\n",
      "memory usage: 1.9+ MB\n",
      "None\n"
     ]
    }
   ],
   "source": [
    "align_corpus(LANGUAGES,bible_books)\n",
    "pandas_corpus = pd.DataFrame.from_dict(parallel_corpus)\n",
    "print(pandas_corpus.info())\n",
    "# corpus_csv_string = pandas_corpus.to_csv()\n",
    "# with open('Zambian_languages_parallel_corpus.csv','w',encoding='utf-8') as corpus_file:\n",
    "#     corpus_file.write(corpus_csv_string)"
   ]
  },
  {
   "cell_type": "code",
   "execution_count": null,
   "id": "dacb5e67",
   "metadata": {},
   "outputs": [],
   "source": []
  }
 ],
 "metadata": {
  "kernelspec": {
   "display_name": "Python 3 (ipykernel)",
   "language": "python",
   "name": "python3"
  },
  "language_info": {
   "codemirror_mode": {
    "name": "ipython",
    "version": 3
   },
   "file_extension": ".py",
   "mimetype": "text/x-python",
   "name": "python",
   "nbconvert_exporter": "python",
   "pygments_lexer": "ipython3",
   "version": "3.9.12"
  }
 },
 "nbformat": 4,
 "nbformat_minor": 5
}
